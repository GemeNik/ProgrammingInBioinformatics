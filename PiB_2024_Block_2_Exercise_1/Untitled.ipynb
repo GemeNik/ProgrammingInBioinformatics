{
 "cells": [
  {
   "cell_type": "markdown",
   "id": "f1914200-bee5-4d1b-86af-a067045c1654",
   "metadata": {},
   "source": [
    "# Project: Bioinformatics Exercise\n",
    "\n",
    "This project contains Python scripts to process and analyze FASTA files, including parsing sequences, filtering ambiguous sequences, and mapping query sequences to reference genomes.\n",
    "\n",
    "## Setup Instructions\n",
    "\n",
    "### Setting up with Conda (Recommended)\n",
    "1. Create a new Conda environment with Python 3.9:\n",
    "   ```bash\n",
    "   conda create -n fasta_env python=3.9 -y\n",
    "   conda activate fasta_env\n",
    "   "
   ]
  },
  {
   "cell_type": "markdown",
   "id": "f888e14f-e465-4dba-9b33-03401739f336",
   "metadata": {},
   "source": [
    "pip install -r requirements.txt"
   ]
  },
  {
   "cell_type": "code",
   "execution_count": null,
   "id": "98bdeafd-e746-42d2-a5b4-d2cfceffc345",
   "metadata": {},
   "outputs": [],
   "source": []
  }
 ],
 "metadata": {
  "kernelspec": {
   "display_name": "Python 3 (ipykernel)",
   "language": "python",
   "name": "python3"
  },
  "language_info": {
   "codemirror_mode": {
    "name": "ipython",
    "version": 3
   },
   "file_extension": ".py",
   "mimetype": "text/x-python",
   "name": "python",
   "nbconvert_exporter": "python",
   "pygments_lexer": "ipython3",
   "version": "3.12.3"
  }
 },
 "nbformat": 4,
 "nbformat_minor": 5
}
